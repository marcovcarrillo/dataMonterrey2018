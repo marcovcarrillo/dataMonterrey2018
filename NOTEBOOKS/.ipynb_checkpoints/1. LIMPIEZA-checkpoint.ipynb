{
 "cells": [
  {
   "cell_type": "markdown",
   "id": "9898117f-f4ca-4656-a1be-c7f4434550b3",
   "metadata": {
    "jp-MarkdownHeadingCollapsed": true
   },
   "source": [
    "### CARRILLO TRUJILLO MARCO VINICIO\r\n"
   ]
  },
  {
   "cell_type": "markdown",
   "id": "132ce9b9-ee7f-4e3a-9b40-1536cb84f92e",
   "metadata": {},
   "source": [
    "### YASACA PUCUNA SAUL"
   ]
  },
  {
   "cell_type": "markdown",
   "id": "45b34fa4-a42f-4002-b1b4-1ad4f04fc89f",
   "metadata": {},
   "source": [
    "Datos: https://portal.monterrey.gob.mx/transparencia/Oficial/Index_Proveedores_Contratistas.asp"
   ]
  },
  {
   "attachments": {},
   "cell_type": "markdown",
   "id": "d3ba1de2-28a0-4a4d-aa8e-ab033d1f7a2c",
   "metadata": {},
   "source": [
    "## PAGOS A PROVEEDORES Y CONTRATISTAS, GOBIERNO DE MONTERREY 2018"
   ]
  },
  {
   "cell_type": "code",
   "execution_count": 1,
   "id": "b2a05247-2943-4954-a422-205863722499",
   "metadata": {},
   "outputs": [],
   "source": [
    "# importat la libreria de pandas\n",
    "import pandas as pd"
   ]
  },
  {
   "cell_type": "code",
   "execution_count": 2,
   "id": "95b4df6f-4d79-4870-8105-1f0a0006a1b5",
   "metadata": {},
   "outputs": [],
   "source": [
    "#importar la libreria del sistema operativo\n",
    "import os"
   ]
  },
  {
   "cell_type": "code",
   "execution_count": 3,
   "id": "e083e4a2-3843-48a7-a1d3-7360a2d4d774",
   "metadata": {},
   "outputs": [
    {
     "name": "stdout",
     "output_type": "stream",
     "text": [
      " El volumen de la unidad C es Windows\n",
      " El número de serie del volumen es: 26DF-D79C\n",
      "\n",
      " Directorio de C:\\Users\\WINDOWS\\Documents\\INTELIGENCIA ARTIFICIAL\\PROYECTO\n",
      "\n",
      "19/10/2024  10:19    <DIR>          .\n",
      "17/10/2024  19:19    <DIR>          ..\n",
      "19/10/2024  10:17    <DIR>          .ipynb_checkpoints\n",
      "18/10/2024  00:14            31.678 1. ENERO 2018.xlsx\n",
      "19/10/2024  10:19            78.298 1. LIMPIEZA.ipynb\n",
      "18/10/2024  00:14           376.719 10. OCTUBRE 2018.xlsx\n",
      "18/10/2024  00:14            64.087 11. NOVIEMBRE 2018.xlsx\n",
      "18/10/2024  00:14           154.729 12. DICIEMBRE 2018.xlsx\n",
      "19/10/2024  10:19           384.548 2. ANALISIS.ipynb\n",
      "18/10/2024  00:14            68.990 2. FEBRERO 2018.xlsx\n",
      "19/10/2024  10:19            19.095 3. ENRIQUCIMIENTO.ipynb\n",
      "18/10/2024  00:14           162.700 3. MARZO 2018.xlsx\n",
      "18/10/2024  00:14           120.864 4. ABRIL 2018.xlsx\n",
      "19/10/2024  10:19            37.474 4_MODELADO.ipynb\n",
      "18/10/2024  00:14           162.920 5. MAYO 2018.xlsx\n",
      "18/10/2024  00:14           209.745 6. JUNIO 2018.xlsx\n",
      "18/10/2024  00:14           169.366 7. JULIO 2018.xlsx\n",
      "18/10/2024  00:14           242.245 8. AGOSTO 2018.xlsx\n",
      "18/10/2024  00:14           207.325 9. SEPTIEMBRE 2018.xlsx\n",
      "19/10/2024  10:17         3.676.664 clean_compras_2018.csv\n",
      "18/10/2024  00:59         4.181.894 compras_df_enriched.csv\n",
      "18/10/2024  00:28    <DIR>          NOTEBOOKS\n",
      "              18 archivos     10.349.341 bytes\n",
      "               4 dirs  721.503.907.840 bytes libres\n"
     ]
    }
   ],
   "source": [
    "ls"
   ]
  },
  {
   "cell_type": "markdown",
   "id": "5b2267ab-c292-48e1-8a95-29ef1decfc49",
   "metadata": {},
   "source": [
    "## 1. ENERO 2018.xlsx"
   ]
  },
  {
   "cell_type": "code",
   "execution_count": 5,
   "id": "e6308c8f-0003-4764-a06d-ea322d61baa8",
   "metadata": {},
   "outputs": [],
   "source": [
    "df_variosene=pd.read_excel('1. ENERO 2018.xlsx',sheet_name='GTS VARIOS', skiprows=5)\n",
    "df_variosene['SHEET']='VARIOS'"
   ]
  },
  {
   "cell_type": "code",
   "execution_count": 6,
   "id": "2ccbb9eb-dba1-4c5c-a6bb-565ea66684c4",
   "metadata": {},
   "outputs": [],
   "source": [
    "df_s_personalesene=pd.read_excel('1. ENERO 2018.xlsx',sheet_name='SERV PERSONALES', skiprows=5)\n",
    "df_s_personalesene['SHEET']='SERVICIOS PERSONALES'"
   ]
  },
  {
   "cell_type": "code",
   "execution_count": 7,
   "id": "d6086561-2ad8-4a9c-8388-b6d1325eb00d",
   "metadata": {},
   "outputs": [],
   "source": [
    "df_contratistasene=pd.read_excel('1. ENERO 2018.xlsx',sheet_name='CONTRAT Y FDOS FED', skiprows=5)\n",
    "df_contratistasene['SHEET']='CONTRATISTAS'"
   ]
  },
  {
   "cell_type": "code",
   "execution_count": 8,
   "id": "4fc34b33-d0b2-4b8a-9f91-b92f7fd0570c",
   "metadata": {},
   "outputs": [],
   "source": [
    "df_compras_ene=pd.concat([df_variosene, df_contratistasene, df_s_personalesene])"
   ]
  },
  {
   "cell_type": "code",
   "execution_count": 9,
   "id": "2fdcca84-d9ff-45c1-b315-a40e121de4f3",
   "metadata": {},
   "outputs": [
    {
     "data": {
      "text/html": [
       "<div>\n",
       "<style scoped>\n",
       "    .dataframe tbody tr th:only-of-type {\n",
       "        vertical-align: middle;\n",
       "    }\n",
       "\n",
       "    .dataframe tbody tr th {\n",
       "        vertical-align: top;\n",
       "    }\n",
       "\n",
       "    .dataframe thead th {\n",
       "        text-align: right;\n",
       "    }\n",
       "</style>\n",
       "<table border=\"1\" class=\"dataframe\">\n",
       "  <thead>\n",
       "    <tr style=\"text-align: right;\">\n",
       "      <th></th>\n",
       "      <th>PROV</th>\n",
       "      <th>BENEFICIARIO</th>\n",
       "      <th>RFC</th>\n",
       "      <th>FACT-NUE-FO</th>\n",
       "      <th>CONTRATO</th>\n",
       "      <th>CONCEPTO</th>\n",
       "      <th>TIPO                 OP</th>\n",
       "      <th>FDO - #OP</th>\n",
       "      <th>FECHA</th>\n",
       "      <th>TOTAL EGRESO</th>\n",
       "      <th>SHEET</th>\n",
       "    </tr>\n",
       "  </thead>\n",
       "  <tbody>\n",
       "    <tr>\n",
       "      <th>0</th>\n",
       "      <td>116245</td>\n",
       "      <td>SEGUROS BANORTE, S.A. DE C.V. GRUPO FINANCIERO...</td>\n",
       "      <td>SBG971124PL2</td>\n",
       "      <td>158003-45-14703463</td>\n",
       "      <td>TES-145-2017</td>\n",
       "      <td>SEGURO DE VEHICULOS OFICIALES CORRESPONDIENTE ...</td>\n",
       "      <td>TR</td>\n",
       "      <td>1010110.0</td>\n",
       "      <td>2018-01-31</td>\n",
       "      <td>1680616.21</td>\n",
       "      <td>VARIOS</td>\n",
       "    </tr>\n",
       "    <tr>\n",
       "      <th>1</th>\n",
       "      <td>116245</td>\n",
       "      <td>SEGUROS BANORTE, S.A. DE C.V. GRUPO FINANCIERO...</td>\n",
       "      <td>SBG971124PL2</td>\n",
       "      <td>158003-46-14703465</td>\n",
       "      <td>TES-145-2017</td>\n",
       "      <td>SEGURO DE VEHICULOS OFICIALES CORRESPONDIENTE ...</td>\n",
       "      <td>TR</td>\n",
       "      <td>1010110.0</td>\n",
       "      <td>2018-01-31</td>\n",
       "      <td>1714379.65</td>\n",
       "      <td>VARIOS</td>\n",
       "    </tr>\n",
       "    <tr>\n",
       "      <th>2</th>\n",
       "      <td>Total 116245</td>\n",
       "      <td>NaN</td>\n",
       "      <td>NaN</td>\n",
       "      <td>NaN</td>\n",
       "      <td>NaN</td>\n",
       "      <td>NaN</td>\n",
       "      <td>NaN</td>\n",
       "      <td>NaN</td>\n",
       "      <td>NaT</td>\n",
       "      <td>3394995.86</td>\n",
       "      <td>VARIOS</td>\n",
       "    </tr>\n",
       "    <tr>\n",
       "      <th>3</th>\n",
       "      <td>116462</td>\n",
       "      <td>SERVICIO PARA ESTACIONES DE GASOLINA EN MEXICO...</td>\n",
       "      <td>SEG1105137F7</td>\n",
       "      <td>158003-11-A34965</td>\n",
       "      <td>SAD-440-2017</td>\n",
       "      <td>CONSUMO DE GASOLINA SEMANA 04 AL 10 DICIEMBRE ...</td>\n",
       "      <td>TR</td>\n",
       "      <td>1010094.0</td>\n",
       "      <td>2018-01-31</td>\n",
       "      <td>1083918.00</td>\n",
       "      <td>VARIOS</td>\n",
       "    </tr>\n",
       "    <tr>\n",
       "      <th>4</th>\n",
       "      <td>116462</td>\n",
       "      <td>SERVICIO PARA ESTACIONES DE GASOLINA EN MEXICO...</td>\n",
       "      <td>SEG1105137F7</td>\n",
       "      <td>158003-4-A35088</td>\n",
       "      <td>SAD-440-2017</td>\n",
       "      <td>CONSUMO DE GASOLINA SEMANA 25 AL 31 DICIEMBRE ...</td>\n",
       "      <td>TR</td>\n",
       "      <td>1010094.0</td>\n",
       "      <td>2018-01-31</td>\n",
       "      <td>1278668.66</td>\n",
       "      <td>VARIOS</td>\n",
       "    </tr>\n",
       "  </tbody>\n",
       "</table>\n",
       "</div>"
      ],
      "text/plain": [
       "           PROV                                       BENEFICIARIO  \\\n",
       "0        116245  SEGUROS BANORTE, S.A. DE C.V. GRUPO FINANCIERO...   \n",
       "1        116245  SEGUROS BANORTE, S.A. DE C.V. GRUPO FINANCIERO...   \n",
       "2  Total 116245                                                NaN   \n",
       "3        116462  SERVICIO PARA ESTACIONES DE GASOLINA EN MEXICO...   \n",
       "4        116462  SERVICIO PARA ESTACIONES DE GASOLINA EN MEXICO...   \n",
       "\n",
       "            RFC         FACT-NUE-FO      CONTRATO  \\\n",
       "0  SBG971124PL2  158003-45-14703463  TES-145-2017   \n",
       "1  SBG971124PL2  158003-46-14703465  TES-145-2017   \n",
       "2           NaN                 NaN           NaN   \n",
       "3  SEG1105137F7    158003-11-A34965  SAD-440-2017   \n",
       "4  SEG1105137F7     158003-4-A35088  SAD-440-2017   \n",
       "\n",
       "                                            CONCEPTO TIPO                 OP  \\\n",
       "0  SEGURO DE VEHICULOS OFICIALES CORRESPONDIENTE ...                      TR   \n",
       "1  SEGURO DE VEHICULOS OFICIALES CORRESPONDIENTE ...                      TR   \n",
       "2                                                NaN                     NaN   \n",
       "3  CONSUMO DE GASOLINA SEMANA 04 AL 10 DICIEMBRE ...                      TR   \n",
       "4  CONSUMO DE GASOLINA SEMANA 25 AL 31 DICIEMBRE ...                      TR   \n",
       "\n",
       "   FDO - #OP      FECHA  TOTAL EGRESO   SHEET  \n",
       "0  1010110.0 2018-01-31    1680616.21  VARIOS  \n",
       "1  1010110.0 2018-01-31    1714379.65  VARIOS  \n",
       "2        NaN        NaT    3394995.86  VARIOS  \n",
       "3  1010094.0 2018-01-31    1083918.00  VARIOS  \n",
       "4  1010094.0 2018-01-31    1278668.66  VARIOS  "
      ]
     },
     "execution_count": 9,
     "metadata": {},
     "output_type": "execute_result"
    }
   ],
   "source": [
    "df_compras_ene.head(5)"
   ]
  },
  {
   "cell_type": "code",
   "execution_count": 10,
   "id": "532f6708-e978-4378-be81-6c3ea6140075",
   "metadata": {},
   "outputs": [
    {
     "data": {
      "text/plain": [
       "126"
      ]
     },
     "execution_count": 10,
     "metadata": {},
     "output_type": "execute_result"
    }
   ],
   "source": [
    "len(df_compras_ene)"
   ]
  },
  {
   "cell_type": "code",
   "execution_count": 11,
   "id": "72a4ed88-1e58-4d51-9ade-1d36c6a2f520",
   "metadata": {},
   "outputs": [],
   "source": [
    "df_compras_ene_com=df_compras_ene.dropna(how='any')"
   ]
  },
  {
   "cell_type": "code",
   "execution_count": 12,
   "id": "219740e7-bc31-43f4-b628-04dad6ef93c6",
   "metadata": {},
   "outputs": [
    {
     "data": {
      "text/plain": [
       "100"
      ]
     },
     "execution_count": 12,
     "metadata": {},
     "output_type": "execute_result"
    }
   ],
   "source": [
    "len(df_compras_ene_com)"
   ]
  },
  {
   "cell_type": "code",
   "execution_count": 13,
   "id": "1ba70c87-c547-4121-8053-138ecbf19536",
   "metadata": {},
   "outputs": [
    {
     "data": {
      "text/plain": [
       "PROV                               object\n",
       "BENEFICIARIO                       object\n",
       "RFC                                object\n",
       "FACT-NUE-FO                        object\n",
       "CONTRATO                           object\n",
       "CONCEPTO                           object\n",
       "TIPO                 OP            object\n",
       "FDO - #OP                         float64\n",
       "FECHA                      datetime64[ns]\n",
       "TOTAL EGRESO                      float64\n",
       "SHEET                              object\n",
       "dtype: object"
      ]
     },
     "execution_count": 13,
     "metadata": {},
     "output_type": "execute_result"
    }
   ],
   "source": [
    "df_compras_ene_com.dtypes"
   ]
  },
  {
   "cell_type": "markdown",
   "id": "84818d16-77f1-4f2c-a69e-b0395c953b2f",
   "metadata": {},
   "source": [
    "## 2. FEBRERO 2018.xlsx"
   ]
  },
  {
   "cell_type": "code",
   "execution_count": 15,
   "id": "82534116-cb88-4492-aeff-c0a192e44fa5",
   "metadata": {},
   "outputs": [],
   "source": [
    "df_contratistasfeb=pd.read_excel('2. FEBRERO 2018.xlsx',sheet_name='CONTRAT Y FDOS FED', skiprows=5)\n",
    "df_contratistasfeb['SHEET']='CONTRATISTAS'"
   ]
  },
  {
   "cell_type": "code",
   "execution_count": 16,
   "id": "85f70523-74f9-444c-989e-bfb6b82dabce",
   "metadata": {},
   "outputs": [],
   "source": [
    "df_variosfeb=pd.read_excel('2. FEBRERO 2018.xlsx',sheet_name='GTS VARIOS', skiprows=5)\n",
    "df_variosfeb['SHEET']='VARIOS'"
   ]
  },
  {
   "cell_type": "code",
   "execution_count": 17,
   "id": "ac43a905-8046-41ec-8b95-9aa03d67b799",
   "metadata": {},
   "outputs": [],
   "source": [
    "df_sprofesionalesfeb=pd.read_excel('2. FEBRERO 2018.xlsx',sheet_name='SERV PROF', skiprows=5)\n",
    "df_sprofesionalesfeb['SHEET']='SERVICIOS PROFESIONALES'"
   ]
  },
  {
   "cell_type": "code",
   "execution_count": 18,
   "id": "48194b5a-98e2-487c-af7a-856704277377",
   "metadata": {},
   "outputs": [],
   "source": [
    "df_representantefeb=pd.read_excel('2. FEBRERO 2018.xlsx',sheet_name='GTS REPRESENT', skiprows=5)\n",
    "df_representantefeb['SHEET']='REPRESENTANTE'"
   ]
  },
  {
   "cell_type": "code",
   "execution_count": 19,
   "id": "e19c3cda-4bec-4e96-8cca-4f4c16bff289",
   "metadata": {},
   "outputs": [],
   "source": [
    "df_spersonalesfeb=pd.read_excel('2. FEBRERO 2018.xlsx',sheet_name='SERV PERS', skiprows=5)\n",
    "df_spersonalesfeb['SHEET']='SERVICIOS PERSONALES'"
   ]
  },
  {
   "cell_type": "code",
   "execution_count": 20,
   "id": "da02c5c2-9a64-4d00-96ea-a2d1e870a5a5",
   "metadata": {},
   "outputs": [],
   "source": [
    "df_compras_feb=pd.concat([df_contratistasfeb, df_variosfeb, df_sprofesionalesfeb,df_representantefeb,df_spersonalesfeb])"
   ]
  },
  {
   "cell_type": "code",
   "execution_count": 21,
   "id": "9896ec46-a2b2-4f31-b40e-b2655be201a2",
   "metadata": {},
   "outputs": [
    {
     "data": {
      "text/html": [
       "<div>\n",
       "<style scoped>\n",
       "    .dataframe tbody tr th:only-of-type {\n",
       "        vertical-align: middle;\n",
       "    }\n",
       "\n",
       "    .dataframe tbody tr th {\n",
       "        vertical-align: top;\n",
       "    }\n",
       "\n",
       "    .dataframe thead th {\n",
       "        text-align: right;\n",
       "    }\n",
       "</style>\n",
       "<table border=\"1\" class=\"dataframe\">\n",
       "  <thead>\n",
       "    <tr style=\"text-align: right;\">\n",
       "      <th></th>\n",
       "      <th>PROV</th>\n",
       "      <th>BENEFICIARIO</th>\n",
       "      <th>RFC</th>\n",
       "      <th>FACT-NUE-FO</th>\n",
       "      <th>CONTRATO</th>\n",
       "      <th>CONCEPTO</th>\n",
       "      <th>TIPO                 OP</th>\n",
       "      <th>FDO - #OP</th>\n",
       "      <th>FECHA</th>\n",
       "      <th>TOTAL EGRESO</th>\n",
       "      <th>SHEET</th>\n",
       "    </tr>\n",
       "  </thead>\n",
       "  <tbody>\n",
       "    <tr>\n",
       "      <th>0</th>\n",
       "      <td>116431</td>\n",
       "      <td>EPEL, S.A. DE C.V.</td>\n",
       "      <td>EPE870704993</td>\n",
       "      <td>E6623-158003-11643</td>\n",
       "      <td>SPP-295-2017</td>\n",
       "      <td>VEHICULO JEEP GRAND CHEROKEE MOD. 2017, BLINDA...</td>\n",
       "      <td>TR</td>\n",
       "      <td>244000008.0</td>\n",
       "      <td>2018-02-23</td>\n",
       "      <td>2888600.00</td>\n",
       "      <td>CONTRATISTAS</td>\n",
       "    </tr>\n",
       "    <tr>\n",
       "      <th>1</th>\n",
       "      <td>116431</td>\n",
       "      <td>EPEL, S.A. DE C.V.</td>\n",
       "      <td>EPE870704993</td>\n",
       "      <td>E6624-158003-11644</td>\n",
       "      <td>SPP-295-2017</td>\n",
       "      <td>VEHICULO GMC YUKON DENALI MOD. 2017, BLINDADO ...</td>\n",
       "      <td>TR</td>\n",
       "      <td>244000008.0</td>\n",
       "      <td>2018-02-23</td>\n",
       "      <td>2914999.99</td>\n",
       "      <td>CONTRATISTAS</td>\n",
       "    </tr>\n",
       "    <tr>\n",
       "      <th>2</th>\n",
       "      <td>116431</td>\n",
       "      <td>EPEL, S.A. DE C.V.</td>\n",
       "      <td>EPE870704993</td>\n",
       "      <td>E6625-158003-11645</td>\n",
       "      <td>SPP-295-2017</td>\n",
       "      <td>VEHICULO GMC YUKON DENALI MOD. 2017, BLINDADO ...</td>\n",
       "      <td>TR</td>\n",
       "      <td>244000008.0</td>\n",
       "      <td>2018-02-23</td>\n",
       "      <td>2914999.99</td>\n",
       "      <td>CONTRATISTAS</td>\n",
       "    </tr>\n",
       "    <tr>\n",
       "      <th>3</th>\n",
       "      <td>116431</td>\n",
       "      <td>EPEL, S.A. DE C.V.</td>\n",
       "      <td>EPE870704993</td>\n",
       "      <td>E6626-158003-11646</td>\n",
       "      <td>SPP-295-2017</td>\n",
       "      <td>VEHICULO GMC YUKON DENALI MOD. 2017, BLINDADO ...</td>\n",
       "      <td>TR</td>\n",
       "      <td>244000008.0</td>\n",
       "      <td>2018-02-23</td>\n",
       "      <td>2914999.99</td>\n",
       "      <td>CONTRATISTAS</td>\n",
       "    </tr>\n",
       "    <tr>\n",
       "      <th>4</th>\n",
       "      <td>116431</td>\n",
       "      <td>EPEL, S.A. DE C.V.</td>\n",
       "      <td>EPE870704993</td>\n",
       "      <td>E6627-158003-11647</td>\n",
       "      <td>SPP-295-2017</td>\n",
       "      <td>VEHICULO CHEVROLET SUBURBAN HD MOD. 2017, BLIN...</td>\n",
       "      <td>TR</td>\n",
       "      <td>244000008.0</td>\n",
       "      <td>2018-02-23</td>\n",
       "      <td>3289800.00</td>\n",
       "      <td>CONTRATISTAS</td>\n",
       "    </tr>\n",
       "  </tbody>\n",
       "</table>\n",
       "</div>"
      ],
      "text/plain": [
       "     PROV        BENEFICIARIO           RFC         FACT-NUE-FO      CONTRATO  \\\n",
       "0  116431  EPEL, S.A. DE C.V.  EPE870704993  E6623-158003-11643  SPP-295-2017   \n",
       "1  116431  EPEL, S.A. DE C.V.  EPE870704993  E6624-158003-11644  SPP-295-2017   \n",
       "2  116431  EPEL, S.A. DE C.V.  EPE870704993  E6625-158003-11645  SPP-295-2017   \n",
       "3  116431  EPEL, S.A. DE C.V.  EPE870704993  E6626-158003-11646  SPP-295-2017   \n",
       "4  116431  EPEL, S.A. DE C.V.  EPE870704993  E6627-158003-11647  SPP-295-2017   \n",
       "\n",
       "                                            CONCEPTO TIPO                 OP  \\\n",
       "0  VEHICULO JEEP GRAND CHEROKEE MOD. 2017, BLINDA...                      TR   \n",
       "1  VEHICULO GMC YUKON DENALI MOD. 2017, BLINDADO ...                      TR   \n",
       "2  VEHICULO GMC YUKON DENALI MOD. 2017, BLINDADO ...                      TR   \n",
       "3  VEHICULO GMC YUKON DENALI MOD. 2017, BLINDADO ...                      TR   \n",
       "4  VEHICULO CHEVROLET SUBURBAN HD MOD. 2017, BLIN...                      TR   \n",
       "\n",
       "     FDO - #OP      FECHA  TOTAL EGRESO         SHEET  \n",
       "0  244000008.0 2018-02-23    2888600.00  CONTRATISTAS  \n",
       "1  244000008.0 2018-02-23    2914999.99  CONTRATISTAS  \n",
       "2  244000008.0 2018-02-23    2914999.99  CONTRATISTAS  \n",
       "3  244000008.0 2018-02-23    2914999.99  CONTRATISTAS  \n",
       "4  244000008.0 2018-02-23    3289800.00  CONTRATISTAS  "
      ]
     },
     "execution_count": 21,
     "metadata": {},
     "output_type": "execute_result"
    }
   ],
   "source": [
    "df_compras_feb.head(5)"
   ]
  },
  {
   "cell_type": "code",
   "execution_count": 22,
   "id": "01ba0679-83f6-487e-a76f-ad5a8edfb707",
   "metadata": {},
   "outputs": [
    {
     "data": {
      "text/plain": [
       "518"
      ]
     },
     "execution_count": 22,
     "metadata": {},
     "output_type": "execute_result"
    }
   ],
   "source": [
    "len(df_compras_feb)"
   ]
  },
  {
   "cell_type": "code",
   "execution_count": 23,
   "id": "d6c24f07-2874-475f-a439-821fe4175c33",
   "metadata": {},
   "outputs": [],
   "source": [
    "df_compras_feb_com=df_compras_feb.dropna(how='any')"
   ]
  },
  {
   "cell_type": "code",
   "execution_count": 24,
   "id": "279d2f0a-3589-4f6a-9af2-c2353db30009",
   "metadata": {},
   "outputs": [
    {
     "data": {
      "text/plain": [
       "424"
      ]
     },
     "execution_count": 24,
     "metadata": {},
     "output_type": "execute_result"
    }
   ],
   "source": [
    "len(df_compras_feb_com)"
   ]
  },
  {
   "cell_type": "code",
   "execution_count": 25,
   "id": "daeefd30-f3b3-4757-b20f-b1f2e7ea5397",
   "metadata": {},
   "outputs": [
    {
     "data": {
      "text/plain": [
       "PROV                               object\n",
       "BENEFICIARIO                       object\n",
       "RFC                                object\n",
       "FACT-NUE-FO                        object\n",
       "CONTRATO                           object\n",
       "CONCEPTO                           object\n",
       "TIPO                 OP            object\n",
       "FDO - #OP                         float64\n",
       "FECHA                      datetime64[ns]\n",
       "TOTAL EGRESO                      float64\n",
       "SHEET                              object\n",
       "dtype: object"
      ]
     },
     "execution_count": 25,
     "metadata": {},
     "output_type": "execute_result"
    }
   ],
   "source": [
    "df_compras_feb_com.dtypes"
   ]
  },
  {
   "cell_type": "markdown",
   "id": "95fc3754-cf31-45dc-b28b-dd56aebf28ca",
   "metadata": {},
   "source": [
    "## 3. MARZO 2018.xlsx"
   ]
  },
  {
   "cell_type": "code",
   "execution_count": 27,
   "id": "bdd0fab9-f460-4c67-93a1-c7f0d3069687",
   "metadata": {},
   "outputs": [],
   "source": [
    "df_contratistasmar=pd.read_excel('3. MARZO 2018.xlsx',sheet_name='CONTRATISTAS Y FONDOS FED', skiprows=5)\n",
    "df_contratistasmar['SHEET']='CONTRATISTAS'"
   ]
  },
  {
   "cell_type": "code",
   "execution_count": 28,
   "id": "3217ac5f-da46-4c12-92ff-655cc22b4391",
   "metadata": {},
   "outputs": [],
   "source": [
    "df_variosmar=pd.read_excel('3. MARZO 2018.xlsx',sheet_name='GTS VARIOS', skiprows=5)\n",
    "df_variosmar['SHEET']='VARIOS'"
   ]
  },
  {
   "cell_type": "code",
   "execution_count": 29,
   "id": "be68f551-9647-4a55-a973-d921d9675b12",
   "metadata": {},
   "outputs": [],
   "source": [
    "df_sprofesionalesmar=pd.read_excel('3. MARZO 2018.xlsx',sheet_name='SERV PROF', skiprows=5)\n",
    "df_sprofesionalesmar['SHEET']='SERVICIOS PROFESIONALES'"
   ]
  },
  {
   "cell_type": "code",
   "execution_count": 30,
   "id": "81f37409-f53c-4987-8fe3-21e0622d0ca4",
   "metadata": {},
   "outputs": [],
   "source": [
    "df_representantemar=pd.read_excel('3. MARZO 2018.xlsx',sheet_name='GTS REPRE', skiprows=5)\n",
    "df_representantemar['SHEET']='REPRESENTANTE'"
   ]
  },
  {
   "cell_type": "code",
   "execution_count": 31,
   "id": "59a1e416-9ec1-4cb7-85c5-1d500a989387",
   "metadata": {},
   "outputs": [],
   "source": [
    "df_spersonalesmar=pd.read_excel('3. MARZO 2018.xlsx',sheet_name='SERV PERS', skiprows=5)\n",
    "df_spersonalesmar['SHEET']='SERVICIOS PERSONALES'"
   ]
  },
  {
   "cell_type": "code",
   "execution_count": 32,
   "id": "f4733a4a-ab14-4bdf-abca-28d9264d0d31",
   "metadata": {},
   "outputs": [],
   "source": [
    "df_comunicacionmar=pd.read_excel('3. MARZO 2018.xlsx',sheet_name='COMUNIC', skiprows=5)\n",
    "df_comunicacionmar['SHEET']='COMUNICACIÓN'"
   ]
  },
  {
   "cell_type": "code",
   "execution_count": 33,
   "id": "2e00b945-3068-4d14-a885-4380ffb47133",
   "metadata": {},
   "outputs": [],
   "source": [
    "df_compras_mar=pd.concat([df_contratistasmar, df_variosmar, df_sprofesionalesmar,df_representantemar,df_spersonalesmar,df_comunicacionmar])"
   ]
  },
  {
   "cell_type": "code",
   "execution_count": 34,
   "id": "6f52ee5d-b1de-47c4-9b0a-d364dd209765",
   "metadata": {},
   "outputs": [
    {
     "data": {
      "text/plain": [
       "1714"
      ]
     },
     "execution_count": 34,
     "metadata": {},
     "output_type": "execute_result"
    }
   ],
   "source": [
    "len(df_compras_mar)"
   ]
  },
  {
   "cell_type": "code",
   "execution_count": 35,
   "id": "f39b46cd-0434-4288-9308-a662ad6270e0",
   "metadata": {},
   "outputs": [],
   "source": [
    "df_compras_mar_com=df_compras_mar.dropna(how='any')"
   ]
  },
  {
   "cell_type": "code",
   "execution_count": 36,
   "id": "a5174512-511b-493e-bb5f-48db8342dada",
   "metadata": {},
   "outputs": [
    {
     "data": {
      "text/plain": [
       "1525"
      ]
     },
     "execution_count": 36,
     "metadata": {},
     "output_type": "execute_result"
    }
   ],
   "source": [
    "len(df_compras_mar_com)"
   ]
  },
  {
   "cell_type": "code",
   "execution_count": 37,
   "id": "0d6b6a60-fe05-4c11-98d0-c85aa252b6a2",
   "metadata": {},
   "outputs": [
    {
     "data": {
      "text/plain": [
       "PROV                               object\n",
       "BENEFICIARIO                       object\n",
       "RFC                                object\n",
       "FACT-NUE-FO                        object\n",
       "CONTRATO                           object\n",
       "CONCEPTO                           object\n",
       "TIPO                 OP            object\n",
       "FDO - #OP                         float64\n",
       "FECHA                      datetime64[ns]\n",
       "TOTAL EGRESO                      float64\n",
       "SHEET                              object\n",
       "dtype: object"
      ]
     },
     "execution_count": 37,
     "metadata": {},
     "output_type": "execute_result"
    }
   ],
   "source": [
    "df_compras_mar_com.dtypes"
   ]
  },
  {
   "cell_type": "markdown",
   "id": "5965c8fa-32cb-47f3-9dea-228681b77363",
   "metadata": {},
   "source": [
    "## 3. ABRIL 2018.xlsx"
   ]
  },
  {
   "cell_type": "code",
   "execution_count": 39,
   "id": "0a443575-054a-4c04-897e-ae64b2b810e7",
   "metadata": {},
   "outputs": [],
   "source": [
    "df_contratistasabr=pd.read_excel('4. ABRIL 2018.xlsx',sheet_name='CONTRATISTAS Y FDOS FED', skiprows=5)\n",
    "df_contratistasabr['SHEET']='CONTRATISTAS'"
   ]
  },
  {
   "cell_type": "code",
   "execution_count": 40,
   "id": "0ecdd1d4-a574-4a75-bc05-fe17ec51ec1e",
   "metadata": {},
   "outputs": [],
   "source": [
    "df_variosabr=pd.read_excel('4. ABRIL 2018.xlsx',sheet_name='GTS VARIOS', skiprows=5)\n",
    "df_variosabr['SHEET']='VARIOS'"
   ]
  },
  {
   "cell_type": "code",
   "execution_count": 41,
   "id": "6a8eecc6-0aa6-44cb-8366-396b9f4f4d78",
   "metadata": {},
   "outputs": [],
   "source": [
    "df_sprofesionalesabr=pd.read_excel('4. ABRIL 2018.xlsx',sheet_name='SERV PROF', skiprows=5)\n",
    "df_sprofesionalesabr['SHEET']='SERVICIOS PROFESIONALES'"
   ]
  },
  {
   "cell_type": "code",
   "execution_count": 42,
   "id": "6cf5d4d5-e96e-492b-aaad-f10900c220de",
   "metadata": {},
   "outputs": [],
   "source": [
    "df_representanteabr=pd.read_excel('4. ABRIL 2018.xlsx',sheet_name='GTS REPRESENT', skiprows=5)\n",
    "df_representanteabr['SHEET']='REPRESENTANTE'"
   ]
  },
  {
   "cell_type": "code",
   "execution_count": 43,
   "id": "8a93b152-14c8-4bd6-8ecf-c0b4eb880ae8",
   "metadata": {},
   "outputs": [],
   "source": [
    "df_spersonalesabr=pd.read_excel('4. ABRIL 2018.xlsx',sheet_name='SERV PERS', skiprows=5)\n",
    "df_spersonalesabr['SHEET']='SERVICIOS PERSONALES'"
   ]
  },
  {
   "cell_type": "code",
   "execution_count": 44,
   "id": "c1a9ce49-a927-4668-b1af-f15536473a67",
   "metadata": {},
   "outputs": [],
   "source": [
    "df_comunicacionabr=pd.read_excel('4. ABRIL 2018.xlsx',sheet_name='COMUNIC', skiprows=5)\n",
    "df_comunicacionabr['SHEET']='COMUNICACIÓN'"
   ]
  },
  {
   "cell_type": "code",
   "execution_count": 45,
   "id": "f24cc9f6-dc64-40e6-870a-a10a34b7161e",
   "metadata": {},
   "outputs": [],
   "source": [
    "df_compras_abr=pd.concat([df_contratistasabr, df_variosabr, df_sprofesionalesabr,df_representanteabr,df_spersonalesabr,df_comunicacionabr])"
   ]
  },
  {
   "cell_type": "code",
   "execution_count": 46,
   "id": "bfabf30f-6ba6-4984-b008-0ee4ab958d7f",
   "metadata": {},
   "outputs": [
    {
     "data": {
      "text/plain": [
       "1133"
      ]
     },
     "execution_count": 46,
     "metadata": {},
     "output_type": "execute_result"
    }
   ],
   "source": [
    "len(df_compras_abr)"
   ]
  },
  {
   "cell_type": "code",
   "execution_count": 47,
   "id": "a7ac7777-5562-43a4-81bd-b45ef9d51580",
   "metadata": {},
   "outputs": [],
   "source": [
    "df_compras_abr_com=df_compras_abr.dropna(how='any')"
   ]
  },
  {
   "cell_type": "code",
   "execution_count": 48,
   "id": "adc925de-e30f-498a-8c39-e8d7b10704ca",
   "metadata": {},
   "outputs": [
    {
     "data": {
      "text/plain": [
       "933"
      ]
     },
     "execution_count": 48,
     "metadata": {},
     "output_type": "execute_result"
    }
   ],
   "source": [
    "len(df_compras_abr_com)"
   ]
  },
  {
   "cell_type": "code",
   "execution_count": 49,
   "id": "e6c7004c-733c-4499-b320-c10cd442c15e",
   "metadata": {},
   "outputs": [
    {
     "data": {
      "text/plain": [
       "PROV                               object\n",
       "BENEFICIARIO                       object\n",
       "RFC                                object\n",
       "FACT-NUE-FO                        object\n",
       "CONTRATO                           object\n",
       "CONCEPTO                           object\n",
       "TIPO                 OP            object\n",
       "FDO - #OP                         float64\n",
       "FECHA                      datetime64[ns]\n",
       "TOTAL EGRESO                      float64\n",
       "SHEET                              object\n",
       "dtype: object"
      ]
     },
     "execution_count": 49,
     "metadata": {},
     "output_type": "execute_result"
    }
   ],
   "source": [
    "df_compras_abr_com.dtypes"
   ]
  },
  {
   "cell_type": "markdown",
   "id": "7791c85c-e4c8-47b5-9de9-d50c3d63465f",
   "metadata": {},
   "source": [
    "## 5. MAYO 2018.xlsx"
   ]
  },
  {
   "cell_type": "code",
   "execution_count": 51,
   "id": "b5033950-f123-4b0a-8993-78f896292d2d",
   "metadata": {},
   "outputs": [],
   "source": [
    "df_contratistasmay=pd.read_excel('5. MAYO 2018.xlsx',sheet_name='O.P. Y FDOS FED', skiprows=5)\n",
    "df_contratistasmay['SHEET']='CONTRATISTAS'"
   ]
  },
  {
   "cell_type": "code",
   "execution_count": 52,
   "id": "dfd9843b-1295-4ffc-a7b7-ad5f17254a48",
   "metadata": {},
   "outputs": [],
   "source": [
    "df_variosmay=pd.read_excel('5. MAYO 2018.xlsx',sheet_name='GTS VARIOS', skiprows=5)\n",
    "df_variosmay['SHEET']='VARIOS'"
   ]
  },
  {
   "cell_type": "code",
   "execution_count": 53,
   "id": "e3dbb339-24b5-4911-829c-ccb38d7b7b3d",
   "metadata": {},
   "outputs": [],
   "source": [
    "df_sprofesionalesmay=pd.read_excel('5. MAYO 2018.xlsx',sheet_name='SERV PROF', skiprows=5)\n",
    "df_sprofesionalesmay['SHEET']='SERVICIOS PROFESIONALES'"
   ]
  },
  {
   "cell_type": "code",
   "execution_count": 54,
   "id": "17040b4b-0098-4139-bc75-312265f800f3",
   "metadata": {},
   "outputs": [],
   "source": [
    "df_representantemay=pd.read_excel('5. MAYO 2018.xlsx',sheet_name='GTS REPRESENT', skiprows=5)\n",
    "df_representantemay['SHEET']='REPRESENTANTE'"
   ]
  },
  {
   "cell_type": "code",
   "execution_count": 55,
   "id": "48d96451-5e44-4e9b-aa8f-9e68a0846a35",
   "metadata": {},
   "outputs": [],
   "source": [
    "df_spersonalesmay=pd.read_excel('5. MAYO 2018.xlsx',sheet_name='SERV PERS', skiprows=5)\n",
    "df_spersonalesmay['SHEET']='SERVICIOS PERSONALES'"
   ]
  },
  {
   "cell_type": "code",
   "execution_count": 56,
   "id": "02b5f4c2-21ee-4c15-b3dd-4e1cc38af1b8",
   "metadata": {},
   "outputs": [],
   "source": [
    "df_comunicacionmay=pd.read_excel('5. MAYO 2018.xlsx',sheet_name='COMUNIC', skiprows=5)\n",
    "df_comunicacionmay['SHEET']='COMUNICACIÓN'"
   ]
  },
  {
   "cell_type": "code",
   "execution_count": 57,
   "id": "592bcd0b-84f6-47c0-aedc-a056fd689ca2",
   "metadata": {},
   "outputs": [],
   "source": [
    "df_compras_may=pd.concat([df_contratistasmay, df_variosmay, df_sprofesionalesmay,df_representantemay,df_spersonalesmay,df_comunicacionmay])"
   ]
  },
  {
   "cell_type": "code",
   "execution_count": 58,
   "id": "3fbb0d5a-d6c5-4484-a078-9c36d937db5f",
   "metadata": {},
   "outputs": [
    {
     "data": {
      "text/plain": [
       "1605"
      ]
     },
     "execution_count": 58,
     "metadata": {},
     "output_type": "execute_result"
    }
   ],
   "source": [
    "len(df_compras_may)"
   ]
  },
  {
   "cell_type": "code",
   "execution_count": 59,
   "id": "0bf2a07b-376b-40f5-ac9c-b80f0bc31062",
   "metadata": {},
   "outputs": [],
   "source": [
    "df_compras_may_com=df_compras_may.dropna(how='any')"
   ]
  },
  {
   "cell_type": "code",
   "execution_count": 60,
   "id": "fb98ad50-ccfa-45cf-94cd-ea172837ad6c",
   "metadata": {},
   "outputs": [
    {
     "data": {
      "text/plain": [
       "1369"
      ]
     },
     "execution_count": 60,
     "metadata": {},
     "output_type": "execute_result"
    }
   ],
   "source": [
    "len(df_compras_may_com)"
   ]
  },
  {
   "cell_type": "code",
   "execution_count": 61,
   "id": "13ffa4e6-ac9f-476e-8e3e-912d58e784cf",
   "metadata": {},
   "outputs": [
    {
     "data": {
      "text/plain": [
       "PROV                               object\n",
       "BENEFICIARIO                       object\n",
       "RFC                                object\n",
       "FACT-NUE-FO                        object\n",
       "CONTRATO                           object\n",
       "CONCEPTO                           object\n",
       "TIPO                 OP            object\n",
       "FDO - #OP                         float64\n",
       "FECHA                      datetime64[ns]\n",
       "TOTAL EGRESO                      float64\n",
       "SHEET                              object\n",
       "dtype: object"
      ]
     },
     "execution_count": 61,
     "metadata": {},
     "output_type": "execute_result"
    }
   ],
   "source": [
    "df_compras_may_com.dtypes"
   ]
  },
  {
   "cell_type": "markdown",
   "id": "4066903a-b25a-4f34-bcb3-74f93cf379b1",
   "metadata": {},
   "source": [
    "## 6. JUNIO 2018.xlsx"
   ]
  },
  {
   "cell_type": "code",
   "execution_count": 63,
   "id": "859f51c3-d207-411f-94da-784892c69479",
   "metadata": {},
   "outputs": [],
   "source": [
    "df_contratistasjun=pd.read_excel('6. JUNIO 2018.xlsx',sheet_name='CONTRATISTAS Y FDOS FED', skiprows=5)\n",
    "df_contratistasjun['SHEET']='CONTRATISTAS'"
   ]
  },
  {
   "cell_type": "code",
   "execution_count": 64,
   "id": "0dcead02-3754-4953-b45b-6248c75a3f5b",
   "metadata": {},
   "outputs": [],
   "source": [
    "df_variosjun=pd.read_excel('6. JUNIO 2018.xlsx',sheet_name='GTS VARIOS', skiprows=5)\n",
    "df_variosjun['SHEET']='VARIOS'"
   ]
  },
  {
   "cell_type": "code",
   "execution_count": 65,
   "id": "c22f6d74-8b9b-459d-be9c-cc41a878fc2a",
   "metadata": {},
   "outputs": [],
   "source": [
    "df_sprofesionalesjun=pd.read_excel('6. JUNIO 2018.xlsx',sheet_name='SERV PROF', skiprows=5)\n",
    "df_sprofesionalesjun['SHEET']='SERVICIOS PROFESIONALES'"
   ]
  },
  {
   "cell_type": "code",
   "execution_count": 66,
   "id": "ab4ab8d5-ed04-42d2-923c-2750f8af7d39",
   "metadata": {},
   "outputs": [],
   "source": [
    "df_representantejun=pd.read_excel('6. JUNIO 2018.xlsx',sheet_name='GTS REPRE', skiprows=5)\n",
    "df_representantejun['SHEET']='REPRESENTANTE'"
   ]
  },
  {
   "cell_type": "code",
   "execution_count": 67,
   "id": "bc368619-a691-4ef0-8759-d2693e381f16",
   "metadata": {},
   "outputs": [],
   "source": [
    "df_spersonalesjun=pd.read_excel('6. JUNIO 2018.xlsx',sheet_name='SERV PERS', skiprows=5)\n",
    "df_spersonalesjun['SHEET']='SERVICIOS PERSONALES'"
   ]
  },
  {
   "cell_type": "code",
   "execution_count": 68,
   "id": "dced33c0-4980-4afa-8c12-7025669cd05a",
   "metadata": {},
   "outputs": [],
   "source": [
    "df_comunicacionjun=pd.read_excel('6. JUNIO 2018.xlsx',sheet_name='COMUNIC', skiprows=5)\n",
    "df_comunicacionjun['SHEET']='COMUNICACIÓN'"
   ]
  },
  {
   "cell_type": "code",
   "execution_count": 69,
   "id": "60416994-7a22-4b1d-8d0c-a05d7066ae55",
   "metadata": {},
   "outputs": [],
   "source": [
    "df_compras_jun=pd.concat([df_contratistasjun, df_variosjun, df_sprofesionalesjun,df_representantejun,df_spersonalesjun,df_comunicacionjun])"
   ]
  },
  {
   "cell_type": "code",
   "execution_count": 70,
   "id": "d453f727-28ea-4e7d-bff0-34aba04e4ac7",
   "metadata": {},
   "outputs": [
    {
     "data": {
      "text/plain": [
       "2176"
      ]
     },
     "execution_count": 70,
     "metadata": {},
     "output_type": "execute_result"
    }
   ],
   "source": [
    "len(df_compras_jun)"
   ]
  },
  {
   "cell_type": "code",
   "execution_count": 71,
   "id": "571ed282-9ecb-44fa-8768-2f6e30d8ef04",
   "metadata": {},
   "outputs": [],
   "source": [
    "df_compras_jun_com=df_compras_jun.dropna(how='any')"
   ]
  },
  {
   "cell_type": "code",
   "execution_count": 72,
   "id": "3e1b2de5-15f1-484b-940f-000b08fefd15",
   "metadata": {},
   "outputs": [
    {
     "data": {
      "text/plain": [
       "1920"
      ]
     },
     "execution_count": 72,
     "metadata": {},
     "output_type": "execute_result"
    }
   ],
   "source": [
    "len(df_compras_jun_com)"
   ]
  },
  {
   "cell_type": "code",
   "execution_count": 73,
   "id": "59db4225-9fef-4df4-9e9c-310f232f9879",
   "metadata": {},
   "outputs": [
    {
     "data": {
      "text/plain": [
       "PROV                               object\n",
       "BENEFICIARIO                       object\n",
       "RFC                                object\n",
       "FACT-NUE-FO                        object\n",
       "CONTRATO                           object\n",
       "CONCEPTO                           object\n",
       "TIPO                 OP            object\n",
       "FDO - #OP                         float64\n",
       "FECHA                      datetime64[ns]\n",
       "TOTAL EGRESO                      float64\n",
       "SHEET                              object\n",
       "dtype: object"
      ]
     },
     "execution_count": 73,
     "metadata": {},
     "output_type": "execute_result"
    }
   ],
   "source": [
    "df_compras_jun_com.dtypes"
   ]
  },
  {
   "cell_type": "markdown",
   "id": "9b6b5526-2d81-4158-a1b6-52b1410d6363",
   "metadata": {},
   "source": [
    "##  7. JULIO 2018.xlsx"
   ]
  },
  {
   "cell_type": "code",
   "execution_count": 75,
   "id": "c09031a9-7df5-4d68-8263-7df3deadfb4b",
   "metadata": {},
   "outputs": [],
   "source": [
    "df_contratistasjul=pd.read_excel('7. JULIO 2018.xlsx',sheet_name='CONTRATISTAS Y FDO FED', skiprows=5)\n",
    "df_contratistasjul['SHEET']='CONTRATISTAS'"
   ]
  },
  {
   "cell_type": "code",
   "execution_count": 76,
   "id": "dd135976-5554-4102-a1df-51929ef691c8",
   "metadata": {},
   "outputs": [],
   "source": [
    "df_variosjul=pd.read_excel('7. JULIO 2018.xlsx',sheet_name='GTS VARIOS', skiprows=5)\n",
    "df_variosjul['SHEET']='VARIOS'"
   ]
  },
  {
   "cell_type": "code",
   "execution_count": 77,
   "id": "8dbf4565-a963-43fd-8256-2c93b0980f4c",
   "metadata": {},
   "outputs": [],
   "source": [
    "df_sprofesionalesjul=pd.read_excel('7. JULIO 2018.xlsx',sheet_name='SERV PROF', skiprows=5)\n",
    "df_sprofesionalesjul['SHEET']='SERVICIOS PROFESIONALES'"
   ]
  },
  {
   "cell_type": "code",
   "execution_count": 78,
   "id": "9c245383-325f-415a-84ca-a442ff11697c",
   "metadata": {},
   "outputs": [],
   "source": [
    "df_representantejul=pd.read_excel('7. JULIO 2018.xlsx',sheet_name='GTS REPRESENT', skiprows=5)\n",
    "df_representantejul['SHEET']='REPRESENTANTE'"
   ]
  },
  {
   "cell_type": "code",
   "execution_count": 79,
   "id": "5dfdfee7-e215-4454-a37d-976e7c7e9a4d",
   "metadata": {},
   "outputs": [],
   "source": [
    "df_spersonalesjul=pd.read_excel('7. JULIO 2018.xlsx',sheet_name='SERV PERS', skiprows=5)\n",
    "df_spersonalesjul['SHEET']='SERVICIOS PERSONALES'"
   ]
  },
  {
   "cell_type": "code",
   "execution_count": 80,
   "id": "db14c809-52a1-44a5-9e91-6a93592c013f",
   "metadata": {},
   "outputs": [],
   "source": [
    "df_comunicacionjul=pd.read_excel('7. JULIO 2018.xlsx',sheet_name='COMUNIC', skiprows=5)\n",
    "df_comunicacionjul['SHEET']='COMUNICACIÓN'"
   ]
  },
  {
   "cell_type": "code",
   "execution_count": 81,
   "id": "525037be-2d53-48cd-83fb-a3c251c5587b",
   "metadata": {},
   "outputs": [],
   "source": [
    "df_compras_jul=pd.concat([df_contratistasjul, df_variosjul, df_sprofesionalesjul,df_representantejul,df_spersonalesjul,df_comunicacionjul])"
   ]
  },
  {
   "cell_type": "code",
   "execution_count": 82,
   "id": "800344a8-ab99-499b-91ba-19fe2eaa5cc1",
   "metadata": {},
   "outputs": [],
   "source": [
    "df_compras_jul_com=df_compras_jul.dropna(how='any')"
   ]
  },
  {
   "cell_type": "code",
   "execution_count": 83,
   "id": "33c3a99f-c0d7-4a6a-889b-55fb0c9507d2",
   "metadata": {},
   "outputs": [
    {
     "data": {
      "text/plain": [
       "1348"
      ]
     },
     "execution_count": 83,
     "metadata": {},
     "output_type": "execute_result"
    }
   ],
   "source": [
    "len(df_compras_jul_com)"
   ]
  },
  {
   "cell_type": "code",
   "execution_count": 84,
   "id": "f5452e18-eceb-47a3-845d-c45b077dbb3b",
   "metadata": {},
   "outputs": [
    {
     "data": {
      "text/plain": [
       "PROV                               object\n",
       "BENEFICIARIO                       object\n",
       "RFC                                object\n",
       "FACT-NUE-FO                        object\n",
       "CONTRATO                           object\n",
       "CONCEPTO                           object\n",
       "TIPO                 OP            object\n",
       "FDO - #OP                         float64\n",
       "FECHA                      datetime64[ns]\n",
       "TOTAL EGRESO                      float64\n",
       "SHEET                              object\n",
       "dtype: object"
      ]
     },
     "execution_count": 84,
     "metadata": {},
     "output_type": "execute_result"
    }
   ],
   "source": [
    "df_compras_jul_com.dtypes"
   ]
  },
  {
   "cell_type": "markdown",
   "id": "ab122279-360b-4bc4-85f2-00090f11d553",
   "metadata": {},
   "source": [
    "## 8. AGOSTO 2018.xlsx"
   ]
  },
  {
   "cell_type": "code",
   "execution_count": 86,
   "id": "0058405e-6f4b-4b7b-9343-546b70f223fd",
   "metadata": {},
   "outputs": [],
   "source": [
    "df_contratistasago=pd.read_excel('8. AGOSTO 2018.xlsx',sheet_name='CONTRATISTAS Y FDO FED', skiprows=5)\n",
    "df_contratistasago['SHEET']='CONTRATISTAS'"
   ]
  },
  {
   "cell_type": "code",
   "execution_count": 87,
   "id": "490ed9f9-ab4f-426f-a4c7-0c437ea90156",
   "metadata": {},
   "outputs": [],
   "source": [
    "df_variosago=pd.read_excel('8. AGOSTO 2018.xlsx',sheet_name='GASTOS VARIOS', skiprows=5)\n",
    "df_variosago['SHEET']='VARIOS'"
   ]
  },
  {
   "cell_type": "code",
   "execution_count": 88,
   "id": "21dadb45-9e9e-4752-94b2-7343525707e1",
   "metadata": {},
   "outputs": [],
   "source": [
    "df_sprofesionalesago=pd.read_excel('8. AGOSTO 2018.xlsx',sheet_name='SERV.PROF.', skiprows=5)\n",
    "df_sprofesionalesago['SHEET']='SERVICIOS PROFESIONALES'"
   ]
  },
  {
   "cell_type": "code",
   "execution_count": 89,
   "id": "c8876c1c-2bdd-480b-a79b-c51301170224",
   "metadata": {},
   "outputs": [],
   "source": [
    "df_representanteago=pd.read_excel('8. AGOSTO 2018.xlsx',sheet_name='GTS REPRE.', skiprows=5)\n",
    "df_representanteago['SHEET']='REPRESENTANTE'"
   ]
  },
  {
   "cell_type": "code",
   "execution_count": 90,
   "id": "d57723f5-9992-4f13-a50f-2b7c0f24ab5b",
   "metadata": {},
   "outputs": [],
   "source": [
    "df_spersonalesago=pd.read_excel('8. AGOSTO 2018.xlsx',sheet_name='SERV. PERS.', skiprows=5)\n",
    "df_spersonalesago['SHEET']='SERVICIOS PERSONALES'"
   ]
  },
  {
   "cell_type": "code",
   "execution_count": 91,
   "id": "dc0b184f-813c-49e3-8a83-58ccb829508f",
   "metadata": {},
   "outputs": [],
   "source": [
    "df_comunicacionago=pd.read_excel('8. AGOSTO 2018.xlsx',sheet_name='COMUNICACION', skiprows=5)\n",
    "df_comunicacionago['SHEET']='COMUNICACIÓN'"
   ]
  },
  {
   "cell_type": "code",
   "execution_count": 92,
   "id": "1ab71338-becb-490f-8c46-3a8b1470bf3c",
   "metadata": {},
   "outputs": [],
   "source": [
    "df_compras_ago=pd.concat([df_contratistasago, df_variosago, df_sprofesionalesago,df_representanteago,df_spersonalesago,df_comunicacionago])"
   ]
  },
  {
   "cell_type": "code",
   "execution_count": 93,
   "id": "93907c7f-f227-428a-9dfc-80d6fe1fa8ab",
   "metadata": {},
   "outputs": [
    {
     "data": {
      "text/plain": [
       "2582"
      ]
     },
     "execution_count": 93,
     "metadata": {},
     "output_type": "execute_result"
    }
   ],
   "source": [
    "len(df_compras_ago)"
   ]
  },
  {
   "cell_type": "code",
   "execution_count": 94,
   "id": "0b507c81-0d94-4ca1-87f5-eebda4c38dca",
   "metadata": {},
   "outputs": [],
   "source": [
    "df_compras_ago_com=df_compras_ago.dropna(how='any')"
   ]
  },
  {
   "cell_type": "code",
   "execution_count": 95,
   "id": "e035cc37-f0aa-4959-bf82-25ba0af70d4e",
   "metadata": {},
   "outputs": [
    {
     "data": {
      "text/plain": [
       "2306"
      ]
     },
     "execution_count": 95,
     "metadata": {},
     "output_type": "execute_result"
    }
   ],
   "source": [
    "len(df_compras_ago_com)"
   ]
  },
  {
   "cell_type": "code",
   "execution_count": 96,
   "id": "1f19f22e-932c-4bf5-ad65-402acd1104cc",
   "metadata": {},
   "outputs": [
    {
     "data": {
      "text/plain": [
       "PROV                               object\n",
       "BENEFICIARIO                       object\n",
       "RFC                                object\n",
       "FACT-NUE-FO                        object\n",
       "CONTRATO                           object\n",
       "CONCEPTO                           object\n",
       "TIPO                 OP            object\n",
       "FDO - #OP                         float64\n",
       "FECHA                      datetime64[ns]\n",
       "TOTAL EGRESO                      float64\n",
       "SHEET                              object\n",
       "dtype: object"
      ]
     },
     "execution_count": 96,
     "metadata": {},
     "output_type": "execute_result"
    }
   ],
   "source": [
    "df_compras_ago_com.dtypes"
   ]
  },
  {
   "cell_type": "markdown",
   "id": "ec16900d-c680-41c2-bbf7-0219329f9560",
   "metadata": {},
   "source": [
    "## 9. SEPTIEMBRE 2018.xlsx"
   ]
  },
  {
   "cell_type": "code",
   "execution_count": 98,
   "id": "0d0bf146-b383-4e64-bcf6-b5fda3a09b59",
   "metadata": {},
   "outputs": [],
   "source": [
    "df_contratistassep=pd.read_excel('9. SEPTIEMBRE 2018.xlsx',sheet_name='CONTRATISTAS Y FDO FED', skiprows=5)\n",
    "df_contratistassep['SHEET']='CONTRATISTAS'"
   ]
  },
  {
   "cell_type": "code",
   "execution_count": 99,
   "id": "d910d220-2d84-4985-9fa3-2c96b2eb7b5b",
   "metadata": {},
   "outputs": [],
   "source": [
    "df_variossep=pd.read_excel('9. SEPTIEMBRE 2018.xlsx',sheet_name='GASTOS VARIOS', skiprows=5)\n",
    "df_variossep['SHEET']='VARIOS'"
   ]
  },
  {
   "cell_type": "code",
   "execution_count": 100,
   "id": "f2f03d70-a628-4ec1-979f-d3689d172585",
   "metadata": {},
   "outputs": [],
   "source": [
    "df_sprofesionalessep=pd.read_excel('9. SEPTIEMBRE 2018.xlsx',sheet_name='SERV.PROF.', skiprows=5)\n",
    "df_sprofesionalessep['SHEET']='SERVICIOS PROFESIONALES'"
   ]
  },
  {
   "cell_type": "code",
   "execution_count": 101,
   "id": "d6e665c7-dee1-4b23-87e2-32102d7419f9",
   "metadata": {},
   "outputs": [],
   "source": [
    "df_representantesep=pd.read_excel('9. SEPTIEMBRE 2018.xlsx',sheet_name='GTS REPRE.', skiprows=5)\n",
    "df_representantesep['SHEET']='REPRESENTANTE'"
   ]
  },
  {
   "cell_type": "code",
   "execution_count": 102,
   "id": "09e87f24-d5f1-4d64-87b4-e9603c2de4cb",
   "metadata": {},
   "outputs": [],
   "source": [
    "df_spersonalessep=pd.read_excel('9. SEPTIEMBRE 2018.xlsx',sheet_name='SERV. PERS.', skiprows=5)\n",
    "df_spersonalessep['SHEET']='SERVICIOS PERSONALES'"
   ]
  },
  {
   "cell_type": "code",
   "execution_count": 103,
   "id": "ac9ad2d8-2a6e-4b4c-b358-a863b160c0b4",
   "metadata": {},
   "outputs": [],
   "source": [
    "df_comunicacionsep=pd.read_excel('9. SEPTIEMBRE 2018.xlsx',sheet_name='COMUNICACION', skiprows=5)\n",
    "df_comunicacionsep['SHEET']='COMUNICACIÓN'"
   ]
  },
  {
   "cell_type": "code",
   "execution_count": 104,
   "id": "ffa61e67-861f-44ba-8d15-812801ee7e0b",
   "metadata": {},
   "outputs": [],
   "source": [
    "df_compras_sep=pd.concat([df_contratistassep, df_variossep, df_sprofesionalessep,df_representantesep,df_spersonalessep,df_comunicacionsep])"
   ]
  },
  {
   "cell_type": "code",
   "execution_count": 105,
   "id": "03fed56e-2e84-472d-a87c-2e9b3090cecd",
   "metadata": {},
   "outputs": [
    {
     "data": {
      "text/plain": [
       "2126"
      ]
     },
     "execution_count": 105,
     "metadata": {},
     "output_type": "execute_result"
    }
   ],
   "source": [
    "len(df_compras_sep)"
   ]
  },
  {
   "cell_type": "code",
   "execution_count": 106,
   "id": "7f132f0f-378f-4ad8-b71f-6e2e8d1ef2b6",
   "metadata": {},
   "outputs": [],
   "source": [
    "df_compras_sep_com=df_compras_sep.dropna(how='any')"
   ]
  },
  {
   "cell_type": "code",
   "execution_count": 107,
   "id": "2cbbdf56-00bc-4826-87d7-639366071a3e",
   "metadata": {},
   "outputs": [
    {
     "data": {
      "text/plain": [
       "1871"
      ]
     },
     "execution_count": 107,
     "metadata": {},
     "output_type": "execute_result"
    }
   ],
   "source": [
    "len(df_compras_sep_com)"
   ]
  },
  {
   "cell_type": "code",
   "execution_count": 108,
   "id": "cb2d8fee-693d-47ad-b2a6-8f202b9ba673",
   "metadata": {},
   "outputs": [
    {
     "data": {
      "text/plain": [
       "PROV                               object\n",
       "BENEFICIARIO                       object\n",
       "RFC                                object\n",
       "FACT-NUE-FO                        object\n",
       "CONTRATO                           object\n",
       "CONCEPTO                           object\n",
       "TIPO                 OP            object\n",
       "FDO - #OP                         float64\n",
       "FECHA                      datetime64[ns]\n",
       "TOTAL EGRESO                      float64\n",
       "SHEET                              object\n",
       "dtype: object"
      ]
     },
     "execution_count": 108,
     "metadata": {},
     "output_type": "execute_result"
    }
   ],
   "source": [
    "df_compras_sep_com.dtypes"
   ]
  },
  {
   "cell_type": "markdown",
   "id": "ae125810-a1bc-495f-831c-4e151b663083",
   "metadata": {},
   "source": [
    "## 10. OCTUBRE 2018.xlsx"
   ]
  },
  {
   "cell_type": "code",
   "execution_count": 110,
   "id": "fa50749c-bef0-48d8-9d7e-ac3fd6ac2c14",
   "metadata": {},
   "outputs": [],
   "source": [
    "df_contratistasoct=pd.read_excel('10. OCTUBRE 2018.xlsx',sheet_name='CONTRATISTAS Y FDO FED', skiprows=5)\n",
    "df_contratistasoct['SHEET']='CONTRATISTAS'"
   ]
  },
  {
   "cell_type": "code",
   "execution_count": 111,
   "id": "80bc9182-7285-452b-b453-a32ed630b31e",
   "metadata": {},
   "outputs": [],
   "source": [
    "df_variosoct=pd.read_excel('10. OCTUBRE 2018.xlsx',sheet_name='GASTOS VARIOS', skiprows=5)\n",
    "df_variosoct['SHEET']='VARIOS'"
   ]
  },
  {
   "cell_type": "code",
   "execution_count": 112,
   "id": "0bf83bae-6a5e-4bfc-9a55-d1f5b674b7bf",
   "metadata": {},
   "outputs": [],
   "source": [
    "df_sprofesionalesoct=pd.read_excel('10. OCTUBRE 2018.xlsx',sheet_name='SERV.PROF.', skiprows=5)\n",
    "df_sprofesionalesoct['SHEET']='SERVICIOS PROFESIONALES'"
   ]
  },
  {
   "cell_type": "code",
   "execution_count": 113,
   "id": "9dee48c0-51c3-4983-abdc-5206f853f948",
   "metadata": {},
   "outputs": [],
   "source": [
    "df_representanteoct=pd.read_excel('10. OCTUBRE 2018.xlsx',sheet_name='GTS REPRE.', skiprows=5)\n",
    "df_representanteoct['SHEET']='REPRESENTANTE'"
   ]
  },
  {
   "cell_type": "code",
   "execution_count": 114,
   "id": "833cc4f7-7c63-4862-9052-7f42758706c9",
   "metadata": {},
   "outputs": [],
   "source": [
    "df_spersonalesoct=pd.read_excel('10. OCTUBRE 2018.xlsx',sheet_name='SERV. PERS.', skiprows=5)\n",
    "df_spersonalesoct['SHEET']='SERVICIOS PERSONALES'"
   ]
  },
  {
   "cell_type": "code",
   "execution_count": 115,
   "id": "82384452-3151-45f1-a10b-c099f38b5661",
   "metadata": {},
   "outputs": [],
   "source": [
    "df_comunicacionoct=pd.read_excel('10. OCTUBRE 2018.xlsx',sheet_name='COMUNICACION', skiprows=5)\n",
    "df_comunicacionoct['SHEET']='COMUNICACIÓN'"
   ]
  },
  {
   "cell_type": "code",
   "execution_count": 116,
   "id": "c39fc817-f5a2-4771-87fe-74d490691646",
   "metadata": {},
   "outputs": [],
   "source": [
    "df_compras_oct=pd.concat([df_contratistasoct, df_variosoct, df_sprofesionalesoct,df_representanteoct,df_spersonalesoct,df_comunicacionoct])"
   ]
  },
  {
   "cell_type": "code",
   "execution_count": 117,
   "id": "0d6dfcc9-ab17-4e53-95d7-f7fb47d29889",
   "metadata": {},
   "outputs": [
    {
     "data": {
      "text/plain": [
       "4540"
      ]
     },
     "execution_count": 117,
     "metadata": {},
     "output_type": "execute_result"
    }
   ],
   "source": [
    "len(df_compras_oct)"
   ]
  },
  {
   "cell_type": "code",
   "execution_count": 118,
   "id": "f933763c-3906-4c2e-a74e-6f609f706432",
   "metadata": {},
   "outputs": [],
   "source": [
    "df_compras_oct_com=df_compras_oct.dropna(how='any')"
   ]
  },
  {
   "cell_type": "code",
   "execution_count": 119,
   "id": "da2d7799-93ca-4e9f-b750-735abfc31d38",
   "metadata": {},
   "outputs": [
    {
     "data": {
      "text/plain": [
       "4230"
      ]
     },
     "execution_count": 119,
     "metadata": {},
     "output_type": "execute_result"
    }
   ],
   "source": [
    "len(df_compras_oct_com)"
   ]
  },
  {
   "cell_type": "code",
   "execution_count": 120,
   "id": "399b6b1b-c493-4891-b7db-66e72d9e2fd7",
   "metadata": {},
   "outputs": [
    {
     "data": {
      "text/plain": [
       "PROV                               object\n",
       "BENEFICIARIO                       object\n",
       "RFC                                object\n",
       "FACT-NUE-FO                        object\n",
       "CONTRATO                           object\n",
       "CONCEPTO                           object\n",
       "TIPO                 OP            object\n",
       "FDO - #OP                         float64\n",
       "FECHA                      datetime64[ns]\n",
       "TOTAL EGRESO                      float64\n",
       "SHEET                              object\n",
       "dtype: object"
      ]
     },
     "execution_count": 120,
     "metadata": {},
     "output_type": "execute_result"
    }
   ],
   "source": [
    "df_compras_oct_com.dtypes"
   ]
  },
  {
   "cell_type": "markdown",
   "id": "65593841-ef86-4e07-97e4-8bae492cba94",
   "metadata": {},
   "source": [
    "## 11. NOVIEMBRE 2018.xlsx"
   ]
  },
  {
   "cell_type": "code",
   "execution_count": 122,
   "id": "422f4717-9b1b-43be-8c88-27109408be86",
   "metadata": {},
   "outputs": [],
   "source": [
    "df_contratistasnov=pd.read_excel('11. NOVIEMBRE 2018.xlsx',sheet_name='CONTRATISTAS Y FDO FED', skiprows=5)\n",
    "df_contratistasnov['SHEET']='CONTRATISTAS'"
   ]
  },
  {
   "cell_type": "code",
   "execution_count": 123,
   "id": "b0af271c-3139-4a31-bcf1-b127945dbb4c",
   "metadata": {},
   "outputs": [],
   "source": [
    "df_variosnov=pd.read_excel('11. NOVIEMBRE 2018.xlsx',sheet_name='GASTOS VARIOS', skiprows=5)\n",
    "df_variosnov['SHEET']='VARIOS'"
   ]
  },
  {
   "cell_type": "code",
   "execution_count": 124,
   "id": "5662590b-0d81-4693-a022-11ab879b6bdb",
   "metadata": {},
   "outputs": [],
   "source": [
    "df_spersonalesnov=pd.read_excel('11. NOVIEMBRE 2018.xlsx',sheet_name='SERV. PERS.', skiprows=5)\n",
    "df_spersonalesnov['SHEET']='SERVICIOS PERSONALES'"
   ]
  },
  {
   "cell_type": "code",
   "execution_count": 125,
   "id": "59c60a91-0403-4b16-b5ee-844c516e77c5",
   "metadata": {},
   "outputs": [],
   "source": [
    "df_compras_nov=pd.concat([df_contratistasnov, df_variosnov,df_spersonalesnov])"
   ]
  },
  {
   "cell_type": "code",
   "execution_count": 126,
   "id": "2f11bf8f-9165-40e9-950e-54c94afd7d0c",
   "metadata": {},
   "outputs": [
    {
     "data": {
      "text/plain": [
       "485"
      ]
     },
     "execution_count": 126,
     "metadata": {},
     "output_type": "execute_result"
    }
   ],
   "source": [
    "len(df_compras_nov)"
   ]
  },
  {
   "cell_type": "code",
   "execution_count": 127,
   "id": "ae30667c-eeaa-4c50-b19b-438fecba86bc",
   "metadata": {},
   "outputs": [],
   "source": [
    "df_compras_nov_com=df_compras_nov.dropna(how='any')"
   ]
  },
  {
   "cell_type": "code",
   "execution_count": 128,
   "id": "107ec69f-b353-47f1-bc1d-2677684fb7ca",
   "metadata": {},
   "outputs": [
    {
     "data": {
      "text/plain": [
       "418"
      ]
     },
     "execution_count": 128,
     "metadata": {},
     "output_type": "execute_result"
    }
   ],
   "source": [
    "len(df_compras_nov_com)"
   ]
  },
  {
   "cell_type": "code",
   "execution_count": 129,
   "id": "51f4f541-f4fa-458d-a209-cd123d552b2f",
   "metadata": {},
   "outputs": [
    {
     "data": {
      "text/plain": [
       "PROV                               object\n",
       "BENEFICIARIO                       object\n",
       "RFC                                object\n",
       "FACT-NUE-FO                        object\n",
       "CONTRATO                           object\n",
       "CONCEPTO                           object\n",
       "TIPO                 OP            object\n",
       "FDO - #OP                         float64\n",
       "FECHA                      datetime64[ns]\n",
       "TOTAL EGRESO                      float64\n",
       "SHEET                              object\n",
       "dtype: object"
      ]
     },
     "execution_count": 129,
     "metadata": {},
     "output_type": "execute_result"
    }
   ],
   "source": [
    "df_compras_nov_com.dtypes"
   ]
  },
  {
   "cell_type": "markdown",
   "id": "dc716e91-36ba-41fe-9db2-7e2b45606ba6",
   "metadata": {},
   "source": [
    "## 12. DICIEMBRE 2018.xlsx"
   ]
  },
  {
   "cell_type": "code",
   "execution_count": 131,
   "id": "dd2f0169-5093-446c-a3ac-4305184aff9b",
   "metadata": {},
   "outputs": [],
   "source": [
    "df_contratistasdic=pd.read_excel('12. DICIEMBRE 2018.xlsx',sheet_name='CONTRATISTAS Y FDO FED', skiprows=5)\n",
    "df_contratistasdic['SHEET']='CONTRATISTAS'"
   ]
  },
  {
   "cell_type": "code",
   "execution_count": 132,
   "id": "2414f0c5-249c-4e9f-8692-f4e004459164",
   "metadata": {},
   "outputs": [],
   "source": [
    "df_variosdic=pd.read_excel('12. DICIEMBRE 2018.xlsx',sheet_name='GASTOS VARIOS', skiprows=5)\n",
    "df_variosdic['SHEET']='VARIOS'"
   ]
  },
  {
   "cell_type": "code",
   "execution_count": 133,
   "id": "bc6a1c9e-5bc3-4688-b82b-10bdc1df52f2",
   "metadata": {},
   "outputs": [],
   "source": [
    "df_sprofesionalesdic=pd.read_excel('12. DICIEMBRE 2018.xlsx',sheet_name='SERV.PROF.', skiprows=5)\n",
    "df_sprofesionalesdic['SHEET']='SERVICIOS PROFESIONALES'"
   ]
  },
  {
   "cell_type": "code",
   "execution_count": 134,
   "id": "6f6f2819-3317-4932-9813-0107481dfa75",
   "metadata": {},
   "outputs": [],
   "source": [
    "df_representantedic=pd.read_excel('12. DICIEMBRE 2018.xlsx',sheet_name='GTS REPRE.', skiprows=5)\n",
    "df_representantedic['SHEET']='REPRESENTANTE'"
   ]
  },
  {
   "cell_type": "code",
   "execution_count": 135,
   "id": "7afadb40-9437-43df-97ff-efdbc81b36d7",
   "metadata": {},
   "outputs": [],
   "source": [
    "df_spersonalesdic=pd.read_excel('12. DICIEMBRE 2018.xlsx',sheet_name='SERV. PERS.', skiprows=5)\n",
    "df_spersonalesdic['SHEET']='SERVICIOS PERSONALES'"
   ]
  },
  {
   "cell_type": "code",
   "execution_count": 136,
   "id": "ef96ddef-1cf4-4280-8ad3-e9eada8f2b49",
   "metadata": {},
   "outputs": [],
   "source": [
    "df_comunicaciondic=pd.read_excel('12. DICIEMBRE 2018.xlsx',sheet_name='COMUNICACION', skiprows=5)\n",
    "df_comunicaciondic['SHEET']='COMUNICACIÓN'"
   ]
  },
  {
   "cell_type": "code",
   "execution_count": 137,
   "id": "19ddbe29-28a6-435e-8be5-ef8c4fbef13a",
   "metadata": {},
   "outputs": [],
   "source": [
    "df_compras_dic=pd.concat([df_contratistasdic, df_variosdic, df_sprofesionalesdic,df_representantedic,df_spersonalesdic,df_comunicaciondic])"
   ]
  },
  {
   "cell_type": "code",
   "execution_count": 138,
   "id": "2e9fa512-5865-42d1-ae8e-da3e38b579fc",
   "metadata": {},
   "outputs": [
    {
     "data": {
      "text/plain": [
       "1593"
      ]
     },
     "execution_count": 138,
     "metadata": {},
     "output_type": "execute_result"
    }
   ],
   "source": [
    "len(df_compras_dic)"
   ]
  },
  {
   "cell_type": "code",
   "execution_count": 139,
   "id": "8dcdf61c-c44f-4380-9ec8-c6e390fce633",
   "metadata": {},
   "outputs": [],
   "source": [
    "df_compras_dic_com=df_compras_dic.dropna(how='any')"
   ]
  },
  {
   "cell_type": "code",
   "execution_count": 140,
   "id": "abd909a0-b7cc-4d53-9475-41b6e95b5b6d",
   "metadata": {},
   "outputs": [
    {
     "data": {
      "text/plain": [
       "1389"
      ]
     },
     "execution_count": 140,
     "metadata": {},
     "output_type": "execute_result"
    }
   ],
   "source": [
    "len(df_compras_dic_com)"
   ]
  },
  {
   "cell_type": "code",
   "execution_count": 141,
   "id": "6d171cb5-98d2-439b-9ea9-8c923cba59a6",
   "metadata": {},
   "outputs": [
    {
     "data": {
      "text/plain": [
       "PROV                               object\n",
       "BENEFICIARIO                       object\n",
       "RFC                                object\n",
       "FACT-NUE-FO                        object\n",
       "CONTRATO                           object\n",
       "CONCEPTO                           object\n",
       "TIPO                 OP            object\n",
       "FDO - #OP                         float64\n",
       "FECHA                      datetime64[ns]\n",
       "TOTAL EGRESO                      float64\n",
       "SHEET                              object\n",
       "dtype: object"
      ]
     },
     "execution_count": 141,
     "metadata": {},
     "output_type": "execute_result"
    }
   ],
   "source": [
    "df_compras_dic_com.dtypes"
   ]
  },
  {
   "cell_type": "code",
   "execution_count": 142,
   "id": "b35b0750-3a29-4eb7-8e30-9575ad732d31",
   "metadata": {},
   "outputs": [],
   "source": [
    "df_2018_clean=pd.concat([df_compras_dic_com,df_compras_nov_com,df_compras_oct_com,df_compras_ago_com,df_compras_jul_com,df_compras_jun_com,df_compras_may_com,df_compras_abr_com,df_compras_mar_com,df_compras_feb_com,df_compras_ene_com])"
   ]
  },
  {
   "cell_type": "code",
   "execution_count": 143,
   "id": "b36610bd-0e94-49ce-b138-c604a2141468",
   "metadata": {},
   "outputs": [
    {
     "data": {
      "text/html": [
       "<div>\n",
       "<style scoped>\n",
       "    .dataframe tbody tr th:only-of-type {\n",
       "        vertical-align: middle;\n",
       "    }\n",
       "\n",
       "    .dataframe tbody tr th {\n",
       "        vertical-align: top;\n",
       "    }\n",
       "\n",
       "    .dataframe thead th {\n",
       "        text-align: right;\n",
       "    }\n",
       "</style>\n",
       "<table border=\"1\" class=\"dataframe\">\n",
       "  <thead>\n",
       "    <tr style=\"text-align: right;\">\n",
       "      <th></th>\n",
       "      <th>PROV</th>\n",
       "      <th>BENEFICIARIO</th>\n",
       "      <th>RFC</th>\n",
       "      <th>FACT-NUE-FO</th>\n",
       "      <th>CONTRATO</th>\n",
       "      <th>CONCEPTO</th>\n",
       "      <th>TIPO                 OP</th>\n",
       "      <th>FDO - #OP</th>\n",
       "      <th>FECHA</th>\n",
       "      <th>TOTAL EGRESO</th>\n",
       "      <th>SHEET</th>\n",
       "    </tr>\n",
       "  </thead>\n",
       "  <tbody>\n",
       "    <tr>\n",
       "      <th>0</th>\n",
       "      <td>113596</td>\n",
       "      <td>GONZALEZ GARZA ROSA LILA</td>\n",
       "      <td>GOGR630616KP2</td>\n",
       "      <td>3624-158003-11778</td>\n",
       "      <td>SPP-318-2018</td>\n",
       "      <td>ADQUISICION DE UNIFORMES PARA EL PERSONAL OPER...</td>\n",
       "      <td>TR</td>\n",
       "      <td>262000010.0</td>\n",
       "      <td>2018-12-20</td>\n",
       "      <td>233956.92</td>\n",
       "      <td>CONTRATISTAS</td>\n",
       "    </tr>\n",
       "    <tr>\n",
       "      <th>2</th>\n",
       "      <td>114085</td>\n",
       "      <td>BUFETE URBANISTICO, S.A. DE C.V.</td>\n",
       "      <td>BUR001114GL6</td>\n",
       "      <td>189-155002-2519</td>\n",
       "      <td>SOP-802-2017</td>\n",
       "      <td>R33-2017 EST. 4 (TECHOS) OP-R33-01/17-IR CONST...</td>\n",
       "      <td>TR</td>\n",
       "      <td>243000132.0</td>\n",
       "      <td>2018-12-30</td>\n",
       "      <td>221540.48</td>\n",
       "      <td>CONTRATISTAS</td>\n",
       "    </tr>\n",
       "    <tr>\n",
       "      <th>3</th>\n",
       "      <td>114085</td>\n",
       "      <td>BUFETE URBANISTICO, S.A. DE C.V.</td>\n",
       "      <td>BUR001114GL6</td>\n",
       "      <td>191-155002-2532</td>\n",
       "      <td>SOP-807-2017</td>\n",
       "      <td>R23-2017  (PROREG) EST. 7 OP-R23(PROREG)-06/17...</td>\n",
       "      <td>TR</td>\n",
       "      <td>249000105.0</td>\n",
       "      <td>2018-12-30</td>\n",
       "      <td>37757.09</td>\n",
       "      <td>CONTRATISTAS</td>\n",
       "    </tr>\n",
       "    <tr>\n",
       "      <th>5</th>\n",
       "      <td>114196</td>\n",
       "      <td>CLIMEEZ DEL NORTE,S.A.DE C.V.</td>\n",
       "      <td>CNO8005284F6</td>\n",
       "      <td>FF384-158003-11871</td>\n",
       "      <td>DIF-039-2018</td>\n",
       "      <td>SUMINISTRO E INSTALACION DE MOBILIARIO Y EQUIP...</td>\n",
       "      <td>TR</td>\n",
       "      <td>260000019.0</td>\n",
       "      <td>2018-12-28</td>\n",
       "      <td>436667.18</td>\n",
       "      <td>CONTRATISTAS</td>\n",
       "    </tr>\n",
       "    <tr>\n",
       "      <th>7</th>\n",
       "      <td>114214</td>\n",
       "      <td>TOOLS &amp; SERVICES DE MEXICO, S.A. DE C.V.</td>\n",
       "      <td>T&amp;S000219-JE7</td>\n",
       "      <td>P9696-158003-12267</td>\n",
       "      <td>SPP-317-2018</td>\n",
       "      <td>ADQUISICION DE UNIFORMES PARA EL PERSONAL OPER...</td>\n",
       "      <td>TR</td>\n",
       "      <td>262000013.0</td>\n",
       "      <td>2018-12-20</td>\n",
       "      <td>5401746.48</td>\n",
       "      <td>CONTRATISTAS</td>\n",
       "    </tr>\n",
       "    <tr>\n",
       "      <th>...</th>\n",
       "      <td>...</td>\n",
       "      <td>...</td>\n",
       "      <td>...</td>\n",
       "      <td>...</td>\n",
       "      <td>...</td>\n",
       "      <td>...</td>\n",
       "      <td>...</td>\n",
       "      <td>...</td>\n",
       "      <td>...</td>\n",
       "      <td>...</td>\n",
       "      <td>...</td>\n",
       "    </tr>\n",
       "    <tr>\n",
       "      <th>3</th>\n",
       "      <td>203013</td>\n",
       "      <td>FRANCISCO HERNANDEZ MARTIN</td>\n",
       "      <td>FAHM821024SA7</td>\n",
       "      <td>81523-158004-5</td>\n",
       "      <td>NO APLICA</td>\n",
       "      <td>JUICIO AMPARO 1796/2016  (FOLIO ORDEN PAGO MAN...</td>\n",
       "      <td>CH</td>\n",
       "      <td>1097594.0</td>\n",
       "      <td>2018-01-31</td>\n",
       "      <td>335475.12</td>\n",
       "      <td>SERVICIOS PERSONALES</td>\n",
       "    </tr>\n",
       "    <tr>\n",
       "      <th>4</th>\n",
       "      <td>203013</td>\n",
       "      <td>GUERRERO GARCIA RICARDO OCTAVIO</td>\n",
       "      <td>GUGR760430QQA</td>\n",
       "      <td>100149-158004-13</td>\n",
       "      <td>NO APLICA</td>\n",
       "      <td>JUICIO AMPARO 220/2016  (FOLIO ORDEN DE PAGO M...</td>\n",
       "      <td>CH</td>\n",
       "      <td>1097595.0</td>\n",
       "      <td>2018-01-31</td>\n",
       "      <td>266442.67</td>\n",
       "      <td>SERVICIOS PERSONALES</td>\n",
       "    </tr>\n",
       "    <tr>\n",
       "      <th>5</th>\n",
       "      <td>203013</td>\n",
       "      <td>SANCHEZ ALVAREZ ALBERTO RAFAEL</td>\n",
       "      <td>SAAA760806IZ7</td>\n",
       "      <td>74788-158004-4</td>\n",
       "      <td>NO APLICA</td>\n",
       "      <td>JUICIO AMPARO 1228/2015 (FOLIO ORDEN PAGO MANU...</td>\n",
       "      <td>CH</td>\n",
       "      <td>1097592.0</td>\n",
       "      <td>2018-01-31</td>\n",
       "      <td>301679.00</td>\n",
       "      <td>SERVICIOS PERSONALES</td>\n",
       "    </tr>\n",
       "    <tr>\n",
       "      <th>7</th>\n",
       "      <td>203016</td>\n",
       "      <td>ARELLANES AYONA APOLINAR MAXIMINO</td>\n",
       "      <td>AEAA590108JD2</td>\n",
       "      <td>105889-158004-23</td>\n",
       "      <td>NO APLICA</td>\n",
       "      <td>PAGO DEL 30% SEGUN JUICIO AMPARO 618/2017   ME...</td>\n",
       "      <td>CH</td>\n",
       "      <td>1097601.0</td>\n",
       "      <td>2018-01-31</td>\n",
       "      <td>7238.25</td>\n",
       "      <td>SERVICIOS PERSONALES</td>\n",
       "    </tr>\n",
       "    <tr>\n",
       "      <th>8</th>\n",
       "      <td>203016</td>\n",
       "      <td>ARELLANES AYONA APOLINAR MAXIMINO</td>\n",
       "      <td>AEAA590108JD2</td>\n",
       "      <td>105889-158004-249</td>\n",
       "      <td>NO APLICA</td>\n",
       "      <td>PAGO 30% SEGUN JUICIO AMPARO 618/2017  MES ENERO</td>\n",
       "      <td>CH</td>\n",
       "      <td>1097602.0</td>\n",
       "      <td>2018-01-31</td>\n",
       "      <td>7238.25</td>\n",
       "      <td>SERVICIOS PERSONALES</td>\n",
       "    </tr>\n",
       "  </tbody>\n",
       "</table>\n",
       "<p>15962 rows × 11 columns</p>\n",
       "</div>"
      ],
      "text/plain": [
       "      PROV                              BENEFICIARIO            RFC  \\\n",
       "0   113596                  GONZALEZ GARZA ROSA LILA  GOGR630616KP2   \n",
       "2   114085          BUFETE URBANISTICO, S.A. DE C.V.   BUR001114GL6   \n",
       "3   114085          BUFETE URBANISTICO, S.A. DE C.V.   BUR001114GL6   \n",
       "5   114196             CLIMEEZ DEL NORTE,S.A.DE C.V.   CNO8005284F6   \n",
       "7   114214  TOOLS & SERVICES DE MEXICO, S.A. DE C.V.  T&S000219-JE7   \n",
       "..     ...                                       ...            ...   \n",
       "3   203013                FRANCISCO HERNANDEZ MARTIN  FAHM821024SA7   \n",
       "4   203013           GUERRERO GARCIA RICARDO OCTAVIO  GUGR760430QQA   \n",
       "5   203013            SANCHEZ ALVAREZ ALBERTO RAFAEL  SAAA760806IZ7   \n",
       "7   203016         ARELLANES AYONA APOLINAR MAXIMINO  AEAA590108JD2   \n",
       "8   203016         ARELLANES AYONA APOLINAR MAXIMINO  AEAA590108JD2   \n",
       "\n",
       "           FACT-NUE-FO      CONTRATO  \\\n",
       "0    3624-158003-11778  SPP-318-2018   \n",
       "2      189-155002-2519  SOP-802-2017   \n",
       "3      191-155002-2532  SOP-807-2017   \n",
       "5   FF384-158003-11871  DIF-039-2018   \n",
       "7   P9696-158003-12267  SPP-317-2018   \n",
       "..                 ...           ...   \n",
       "3       81523-158004-5     NO APLICA   \n",
       "4     100149-158004-13     NO APLICA   \n",
       "5       74788-158004-4     NO APLICA   \n",
       "7     105889-158004-23     NO APLICA   \n",
       "8    105889-158004-249     NO APLICA   \n",
       "\n",
       "                                             CONCEPTO TIPO                 OP  \\\n",
       "0   ADQUISICION DE UNIFORMES PARA EL PERSONAL OPER...                      TR   \n",
       "2   R33-2017 EST. 4 (TECHOS) OP-R33-01/17-IR CONST...                      TR   \n",
       "3   R23-2017  (PROREG) EST. 7 OP-R23(PROREG)-06/17...                      TR   \n",
       "5   SUMINISTRO E INSTALACION DE MOBILIARIO Y EQUIP...                      TR   \n",
       "7   ADQUISICION DE UNIFORMES PARA EL PERSONAL OPER...                      TR   \n",
       "..                                                ...                     ...   \n",
       "3   JUICIO AMPARO 1796/2016  (FOLIO ORDEN PAGO MAN...                      CH   \n",
       "4   JUICIO AMPARO 220/2016  (FOLIO ORDEN DE PAGO M...                      CH   \n",
       "5   JUICIO AMPARO 1228/2015 (FOLIO ORDEN PAGO MANU...                      CH   \n",
       "7   PAGO DEL 30% SEGUN JUICIO AMPARO 618/2017   ME...                      CH   \n",
       "8    PAGO 30% SEGUN JUICIO AMPARO 618/2017  MES ENERO                      CH   \n",
       "\n",
       "      FDO - #OP      FECHA  TOTAL EGRESO                 SHEET  \n",
       "0   262000010.0 2018-12-20     233956.92          CONTRATISTAS  \n",
       "2   243000132.0 2018-12-30     221540.48          CONTRATISTAS  \n",
       "3   249000105.0 2018-12-30      37757.09          CONTRATISTAS  \n",
       "5   260000019.0 2018-12-28     436667.18          CONTRATISTAS  \n",
       "7   262000013.0 2018-12-20    5401746.48          CONTRATISTAS  \n",
       "..          ...        ...           ...                   ...  \n",
       "3     1097594.0 2018-01-31     335475.12  SERVICIOS PERSONALES  \n",
       "4     1097595.0 2018-01-31     266442.67  SERVICIOS PERSONALES  \n",
       "5     1097592.0 2018-01-31     301679.00  SERVICIOS PERSONALES  \n",
       "7     1097601.0 2018-01-31       7238.25  SERVICIOS PERSONALES  \n",
       "8     1097602.0 2018-01-31       7238.25  SERVICIOS PERSONALES  \n",
       "\n",
       "[15962 rows x 11 columns]"
      ]
     },
     "execution_count": 143,
     "metadata": {},
     "output_type": "execute_result"
    }
   ],
   "source": [
    "df_2018_clean"
   ]
  },
  {
   "cell_type": "code",
   "execution_count": 144,
   "id": "bf98c25b-379e-46ef-bf0d-b39969e72e6e",
   "metadata": {},
   "outputs": [
    {
     "data": {
      "text/plain": [
       "15962"
      ]
     },
     "execution_count": 144,
     "metadata": {},
     "output_type": "execute_result"
    }
   ],
   "source": [
    "len(df_2018_clean)"
   ]
  },
  {
   "cell_type": "code",
   "execution_count": 145,
   "id": "4c25e637-3612-4e4d-a72b-86671188c942",
   "metadata": {},
   "outputs": [
    {
     "data": {
      "text/plain": [
       "Index(['PROV', 'BENEFICIARIO', 'RFC', 'FACT-NUE-FO', 'CONTRATO', 'CONCEPTO',\n",
       "       'TIPO                 OP', 'FDO - #OP', 'FECHA', 'TOTAL EGRESO',\n",
       "       'SHEET'],\n",
       "      dtype='object')"
      ]
     },
     "execution_count": 145,
     "metadata": {},
     "output_type": "execute_result"
    }
   ],
   "source": [
    "df_2018_clean.columns"
   ]
  },
  {
   "cell_type": "code",
   "execution_count": 146,
   "id": "e893b0fb-7bbd-4b47-b1d5-c87292cfe003",
   "metadata": {},
   "outputs": [],
   "source": [
    "df_2018_clean.rename(columns={'PROV': 'PROVINCIA', 'BENEFICIARIO': 'BENEFICIARIO', 'RFC': 'RFC','FACT-NUE-FO':'FACTURA','CONTRATO':'CONTRATO','CONCEPTO':'CONCEPTO',\n",
    "                             'TIPO                 OP': 'TIPO OP','FDO - #OP':'FDO OP', 'FECHA':'FECHA','TOTAL EGRESO':'IMPORTE','SHEET':'ETIQUETA'}, inplace=True)"
   ]
  },
  {
   "cell_type": "code",
   "execution_count": 147,
   "id": "bd5e868f-b2f1-41b7-a684-b6576789172f",
   "metadata": {},
   "outputs": [
    {
     "data": {
      "text/plain": [
       "Index(['PROVINCIA', 'BENEFICIARIO', 'RFC', 'FACTURA', 'CONTRATO', 'CONCEPTO',\n",
       "       'TIPO OP', 'FDO OP', 'FECHA', 'IMPORTE', 'ETIQUETA'],\n",
       "      dtype='object')"
      ]
     },
     "execution_count": 147,
     "metadata": {},
     "output_type": "execute_result"
    }
   ],
   "source": [
    "df_2018_clean.columns"
   ]
  },
  {
   "cell_type": "code",
   "execution_count": 148,
   "id": "4fcd0fde-3b17-4b13-9fb4-69e9f9245a09",
   "metadata": {},
   "outputs": [],
   "source": [
    "df_2018_clean.to_csv(r'C:\\Users\\WINDOWS\\Documents\\INTELIGENCIA ARTIFICIAL\\PROYECTO\\clean_compras_2018.csv', index=None)"
   ]
  },
  {
   "cell_type": "code",
   "execution_count": 149,
   "id": "5c68064f-aeb5-4160-a2c7-dcc177c2417d",
   "metadata": {},
   "outputs": [
    {
     "data": {
      "text/plain": [
       "PROVINCIA               object\n",
       "BENEFICIARIO            object\n",
       "RFC                     object\n",
       "FACTURA                 object\n",
       "CONTRATO                object\n",
       "CONCEPTO                object\n",
       "TIPO OP                 object\n",
       "FDO OP                 float64\n",
       "FECHA           datetime64[ns]\n",
       "IMPORTE                float64\n",
       "ETIQUETA                object\n",
       "dtype: object"
      ]
     },
     "execution_count": 149,
     "metadata": {},
     "output_type": "execute_result"
    }
   ],
   "source": [
    "df_2018_clean.dtypes"
   ]
  }
 ],
 "metadata": {
  "kernelspec": {
   "display_name": "Python 3 (ipykernel)",
   "language": "python",
   "name": "python3"
  },
  "language_info": {
   "codemirror_mode": {
    "name": "ipython",
    "version": 3
   },
   "file_extension": ".py",
   "mimetype": "text/x-python",
   "name": "python",
   "nbconvert_exporter": "python",
   "pygments_lexer": "ipython3",
   "version": "3.12.4"
  }
 },
 "nbformat": 4,
 "nbformat_minor": 5
}
